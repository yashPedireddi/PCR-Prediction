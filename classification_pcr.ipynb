{
 "cells": [
  {
   "cell_type": "markdown",
   "id": "fb3b1ed8",
   "metadata": {},
   "source": [
    "#### Importing libraries"
   ]
  },
  {
   "cell_type": "code",
   "execution_count": 1,
   "id": "48b0d59c",
   "metadata": {},
   "outputs": [],
   "source": [
    "import pandas as pd\n",
    "import numpy as np\n",
    "from sklearn.feature_selection import mutual_info_classif as MIC\n",
    "from sklearn.model_selection import train_test_split\n",
    "from sklearn.tree import DecisionTreeClassifier\n",
    "from sklearn.preprocessing import StandardScaler, MinMaxScaler\n",
    "from sklearn.model_selection import RepeatedStratifiedKFold\n",
    "from sklearn.model_selection import GridSearchCV\n",
    "from sklearn.metrics import confusion_matrix, classification_report,roc_auc_score\n",
    "from sklearn.model_selection import cross_val_score, RandomizedSearchCV\n",
    "from sklearn import metrics\n",
    "import matplotlib.pyplot as plt\n",
    "import seaborn as sns\n",
    "from sklearn.ensemble import RandomForestClassifier\n",
    "from sklearn.svm import SVC\n",
    "from sklearn.neural_network import MLPClassifier\n",
    "from sklearn.utils import resample \n",
    "from sklearn.preprocessing import StandardScaler"
   ]
  },
  {
   "cell_type": "markdown",
   "id": "d31d2cd6",
   "metadata": {},
   "source": [
    "#### Reading the csv file"
   ]
  },
  {
   "cell_type": "code",
   "execution_count": 2,
   "id": "1f8a1e21",
   "metadata": {},
   "outputs": [],
   "source": [
    "df= pd.read_csv(\"trainDataset.csv\")"
   ]
  },
  {
   "cell_type": "markdown",
   "id": "54238cfa",
   "metadata": {},
   "source": [
    "#### Data description and handling nan"
   ]
  },
  {
   "cell_type": "code",
   "execution_count": 3,
   "id": "8e432c8a",
   "metadata": {},
   "outputs": [
    {
     "data": {
      "text/html": [
       "<div>\n",
       "<style scoped>\n",
       "    .dataframe tbody tr th:only-of-type {\n",
       "        vertical-align: middle;\n",
       "    }\n",
       "\n",
       "    .dataframe tbody tr th {\n",
       "        vertical-align: top;\n",
       "    }\n",
       "\n",
       "    .dataframe thead th {\n",
       "        text-align: right;\n",
       "    }\n",
       "</style>\n",
       "<table border=\"1\" class=\"dataframe\">\n",
       "  <thead>\n",
       "    <tr style=\"text-align: right;\">\n",
       "      <th></th>\n",
       "      <th>count</th>\n",
       "      <th>mean</th>\n",
       "      <th>std</th>\n",
       "      <th>min</th>\n",
       "      <th>25%</th>\n",
       "      <th>50%</th>\n",
       "      <th>75%</th>\n",
       "      <th>max</th>\n",
       "    </tr>\n",
       "  </thead>\n",
       "  <tbody>\n",
       "    <tr>\n",
       "      <th>pCR (outcome)</th>\n",
       "      <td>400.0</td>\n",
       "      <td>12.727500</td>\n",
       "      <td>111.104111</td>\n",
       "      <td>0.000000</td>\n",
       "      <td>0.000000</td>\n",
       "      <td>0.000000</td>\n",
       "      <td>1.000000</td>\n",
       "      <td>999.000000</td>\n",
       "    </tr>\n",
       "    <tr>\n",
       "      <th>RelapseFreeSurvival (outcome)</th>\n",
       "      <td>400.0</td>\n",
       "      <td>56.159792</td>\n",
       "      <td>26.763774</td>\n",
       "      <td>5.000000</td>\n",
       "      <td>38.000000</td>\n",
       "      <td>55.041667</td>\n",
       "      <td>73.000000</td>\n",
       "      <td>144.000000</td>\n",
       "    </tr>\n",
       "    <tr>\n",
       "      <th>Age</th>\n",
       "      <td>400.0</td>\n",
       "      <td>51.851171</td>\n",
       "      <td>10.864462</td>\n",
       "      <td>23.000000</td>\n",
       "      <td>44.616016</td>\n",
       "      <td>51.119781</td>\n",
       "      <td>60.000000</td>\n",
       "      <td>79.603012</td>\n",
       "    </tr>\n",
       "    <tr>\n",
       "      <th>ER</th>\n",
       "      <td>400.0</td>\n",
       "      <td>0.540000</td>\n",
       "      <td>0.499022</td>\n",
       "      <td>0.000000</td>\n",
       "      <td>0.000000</td>\n",
       "      <td>1.000000</td>\n",
       "      <td>1.000000</td>\n",
       "      <td>1.000000</td>\n",
       "    </tr>\n",
       "    <tr>\n",
       "      <th>PgR</th>\n",
       "      <td>400.0</td>\n",
       "      <td>2.900000</td>\n",
       "      <td>49.932235</td>\n",
       "      <td>0.000000</td>\n",
       "      <td>0.000000</td>\n",
       "      <td>0.000000</td>\n",
       "      <td>1.000000</td>\n",
       "      <td>999.000000</td>\n",
       "    </tr>\n",
       "    <tr>\n",
       "      <th>...</th>\n",
       "      <td>...</td>\n",
       "      <td>...</td>\n",
       "      <td>...</td>\n",
       "      <td>...</td>\n",
       "      <td>...</td>\n",
       "      <td>...</td>\n",
       "      <td>...</td>\n",
       "      <td>...</td>\n",
       "    </tr>\n",
       "    <tr>\n",
       "      <th>original_ngtdm_Busyness</th>\n",
       "      <td>400.0</td>\n",
       "      <td>176.969142</td>\n",
       "      <td>1045.305721</td>\n",
       "      <td>0.000000</td>\n",
       "      <td>18.628013</td>\n",
       "      <td>66.507214</td>\n",
       "      <td>154.300334</td>\n",
       "      <td>20764.693790</td>\n",
       "    </tr>\n",
       "    <tr>\n",
       "      <th>original_ngtdm_Coarseness</th>\n",
       "      <td>400.0</td>\n",
       "      <td>32500.032680</td>\n",
       "      <td>177545.921557</td>\n",
       "      <td>0.000248</td>\n",
       "      <td>0.001851</td>\n",
       "      <td>0.004399</td>\n",
       "      <td>0.013846</td>\n",
       "      <td>1000000.000000</td>\n",
       "    </tr>\n",
       "    <tr>\n",
       "      <th>original_ngtdm_Complexity</th>\n",
       "      <td>400.0</td>\n",
       "      <td>0.056721</td>\n",
       "      <td>0.047363</td>\n",
       "      <td>0.000000</td>\n",
       "      <td>0.018628</td>\n",
       "      <td>0.047029</td>\n",
       "      <td>0.084418</td>\n",
       "      <td>0.285100</td>\n",
       "    </tr>\n",
       "    <tr>\n",
       "      <th>original_ngtdm_Contrast</th>\n",
       "      <td>400.0</td>\n",
       "      <td>0.005948</td>\n",
       "      <td>0.008416</td>\n",
       "      <td>0.000000</td>\n",
       "      <td>0.000310</td>\n",
       "      <td>0.002301</td>\n",
       "      <td>0.007873</td>\n",
       "      <td>0.060742</td>\n",
       "    </tr>\n",
       "    <tr>\n",
       "      <th>original_ngtdm_Strength</th>\n",
       "      <td>400.0</td>\n",
       "      <td>0.029385</td>\n",
       "      <td>0.115909</td>\n",
       "      <td>0.000000</td>\n",
       "      <td>0.001535</td>\n",
       "      <td>0.003384</td>\n",
       "      <td>0.009558</td>\n",
       "      <td>1.145601</td>\n",
       "    </tr>\n",
       "  </tbody>\n",
       "</table>\n",
       "<p>119 rows × 8 columns</p>\n",
       "</div>"
      ],
      "text/plain": [
       "                               count          mean            std        min  \\\n",
       "pCR (outcome)                  400.0     12.727500     111.104111   0.000000   \n",
       "RelapseFreeSurvival (outcome)  400.0     56.159792      26.763774   5.000000   \n",
       "Age                            400.0     51.851171      10.864462  23.000000   \n",
       "ER                             400.0      0.540000       0.499022   0.000000   \n",
       "PgR                            400.0      2.900000      49.932235   0.000000   \n",
       "...                              ...           ...            ...        ...   \n",
       "original_ngtdm_Busyness        400.0    176.969142    1045.305721   0.000000   \n",
       "original_ngtdm_Coarseness      400.0  32500.032680  177545.921557   0.000248   \n",
       "original_ngtdm_Complexity      400.0      0.056721       0.047363   0.000000   \n",
       "original_ngtdm_Contrast        400.0      0.005948       0.008416   0.000000   \n",
       "original_ngtdm_Strength        400.0      0.029385       0.115909   0.000000   \n",
       "\n",
       "                                     25%        50%         75%  \\\n",
       "pCR (outcome)                   0.000000   0.000000    1.000000   \n",
       "RelapseFreeSurvival (outcome)  38.000000  55.041667   73.000000   \n",
       "Age                            44.616016  51.119781   60.000000   \n",
       "ER                              0.000000   1.000000    1.000000   \n",
       "PgR                             0.000000   0.000000    1.000000   \n",
       "...                                  ...        ...         ...   \n",
       "original_ngtdm_Busyness        18.628013  66.507214  154.300334   \n",
       "original_ngtdm_Coarseness       0.001851   0.004399    0.013846   \n",
       "original_ngtdm_Complexity       0.018628   0.047029    0.084418   \n",
       "original_ngtdm_Contrast         0.000310   0.002301    0.007873   \n",
       "original_ngtdm_Strength         0.001535   0.003384    0.009558   \n",
       "\n",
       "                                          max  \n",
       "pCR (outcome)                      999.000000  \n",
       "RelapseFreeSurvival (outcome)      144.000000  \n",
       "Age                                 79.603012  \n",
       "ER                                   1.000000  \n",
       "PgR                                999.000000  \n",
       "...                                       ...  \n",
       "original_ngtdm_Busyness          20764.693790  \n",
       "original_ngtdm_Coarseness      1000000.000000  \n",
       "original_ngtdm_Complexity            0.285100  \n",
       "original_ngtdm_Contrast              0.060742  \n",
       "original_ngtdm_Strength              1.145601  \n",
       "\n",
       "[119 rows x 8 columns]"
      ]
     },
     "execution_count": 3,
     "metadata": {},
     "output_type": "execute_result"
    }
   ],
   "source": [
    "df.describe().T"
   ]
  },
  {
   "cell_type": "code",
   "execution_count": 4,
   "id": "bf903e58",
   "metadata": {},
   "outputs": [],
   "source": [
    "# removing rows with value 999\n",
    "df = df[df[\"pCR (outcome)\"] !=999 ]\n",
    "# df = df.replace([999], 0)"
   ]
  },
  {
   "cell_type": "markdown",
   "id": "8006ce60",
   "metadata": {},
   "source": [
    "#### Outlier Analysis and removing outlier data points"
   ]
  },
  {
   "cell_type": "code",
   "execution_count": 5,
   "id": "a1f91a2f",
   "metadata": {},
   "outputs": [
    {
     "data": {
      "text/plain": [
       "<matplotlib.axes._subplots.AxesSubplot at 0x202b2aa6e48>"
      ]
     },
     "execution_count": 5,
     "metadata": {},
     "output_type": "execute_result"
    },
    {
     "data": {
      "image/png": "[encoded data removed]",
      "text/plain": [
       "<Figure size 640x480 with 1 Axes>"
      ]
     },
     "metadata": {},
     "output_type": "display_data"
    }
   ],
   "source": [
    "sns.scatterplot(x=\"original_ngtdm_Busyness\",\n",
    "                    y=\"pCR (outcome)\",\n",
    "                    data=df,hue=\"pCR (outcome)\")"
   ]
  },
  {
   "cell_type": "markdown",
   "id": "913df883",
   "metadata": {},
   "source": [
    "#### Exploring the target variable"
   ]
  },
  {
   "cell_type": "code",
   "execution_count": 6,
   "id": "d3d39931",
   "metadata": {},
   "outputs": [
    {
     "name": "stdout",
     "output_type": "stream",
     "text": [
      "96\n",
      "24.3\n",
      "299\n",
      "75.7\n",
      "395\n"
     ]
    },
    {
     "data": {
      "image/png": "[encoded data removed]",
      "text/plain": [
       "<Figure size 640x480 with 1 Axes>"
      ]
     },
     "metadata": {},
     "output_type": "display_data"
    }
   ],
   "source": [
    "yes = df[\"pCR (outcome)\"].sum()\n",
    "no = len(df)-yes\n",
    "\n",
    "# Percentage\n",
    "yes_perc = round(yes/len(df)*100, 1)\n",
    "no_perc = round(no/len(df)*100, 1)\n",
    "\n",
    "sns.countplot(data=df, x='pCR (outcome)', palette=\"Blues\")\n",
    "print(yes)\n",
    "print(yes_perc)\n",
    "print(no)\n",
    "print(no_perc)\n",
    "print(len(df))"
   ]
  },
  {
   "cell_type": "code",
   "execution_count": 7,
   "id": "2aeff6ce",
   "metadata": {},
   "outputs": [
    {
     "data": {
      "text/plain": [
       "count      395.000000\n",
       "mean       178.535250\n",
       "std       1051.812623\n",
       "min          0.000000\n",
       "25%         18.723677\n",
       "50%         68.117000\n",
       "75%        155.512297\n",
       "max      20764.693790\n",
       "Name: original_ngtdm_Busyness, dtype: float64"
      ]
     },
     "execution_count": 7,
     "metadata": {},
     "output_type": "execute_result"
    }
   ],
   "source": [
    "df[\"original_ngtdm_Busyness\"].describe()"
   ]
  },
  {
   "cell_type": "code",
   "execution_count": 8,
   "id": "855b8e65",
   "metadata": {},
   "outputs": [],
   "source": [
    "df = df[df[\"original_ngtdm_Busyness\"] <20000 ]"
   ]
  },
  {
   "cell_type": "markdown",
   "id": "a32baf7e",
   "metadata": {},
   "source": [
    "#### Dropping non-relevant columns "
   ]
  },
  {
   "cell_type": "code",
   "execution_count": 9,
   "id": "ba3a9c6b",
   "metadata": {},
   "outputs": [],
   "source": [
    "df=df.drop(\"ID\",axis=1)"
   ]
  },
  {
   "cell_type": "markdown",
   "id": "e023e018",
   "metadata": {},
   "source": [
    "#### Converting the values to numeric"
   ]
  },
  {
   "cell_type": "code",
   "execution_count": 10,
   "id": "99210f59",
   "metadata": {},
   "outputs": [],
   "source": [
    "df = df.apply(pd.to_numeric)"
   ]
  },
  {
   "cell_type": "code",
   "execution_count": 11,
   "id": "046b48aa",
   "metadata": {},
   "outputs": [],
   "source": [
    "df2=df.copy()\n"
   ]
  },
  {
   "cell_type": "code",
   "execution_count": 12,
   "id": "de1dc089",
   "metadata": {},
   "outputs": [],
   "source": [
    "df2 = df2.apply(pd.to_numeric)"
   ]
  },
  {
   "cell_type": "markdown",
   "id": "712dbaff",
   "metadata": {},
   "source": [
    "#### Handling imbalance in the data through upsampling"
   ]
  },
  {
   "cell_type": "code",
   "execution_count": 13,
   "id": "9b725e41",
   "metadata": {},
   "outputs": [],
   "source": [
    "pcr_true = df[df[\"pCR (outcome)\"] == 1]\n",
    "pcr_false = df[df[\"pCR (outcome)\"] == 0]  \n",
    "\n",
    "upsample = resample(pcr_true,\n",
    "             replace=True,\n",
    "             n_samples=len(pcr_false),\n",
    "             random_state=42)\n",
    "upsample_df = pd.concat([pcr_false,upsample])\n"
   ]
  },
  {
   "cell_type": "markdown",
   "id": "f43438ee",
   "metadata": {},
   "source": [
    "#### Splitting data into inputs and outputs"
   ]
  },
  {
   "cell_type": "code",
   "execution_count": 14,
   "id": "608ecde1",
   "metadata": {},
   "outputs": [
    {
     "data": {
      "text/plain": [
       "1    0\n",
       "3    0\n",
       "4    0\n",
       "5    0\n",
       "6    0\n",
       "Name: pCR (outcome), dtype: int64"
      ]
     },
     "execution_count": 14,
     "metadata": {},
     "output_type": "execute_result"
    }
   ],
   "source": [
    "X=upsample_df.drop([\"pCR (outcome)\",\"RelapseFreeSurvival (outcome)\"],axis=1)\n",
    "Y=upsample_df[\"pCR (outcome)\"]\n",
    "Y.head()"
   ]
  },
  {
   "cell_type": "code",
   "execution_count": 15,
   "id": "42c109a5",
   "metadata": {},
   "outputs": [
    {
     "data": {
      "text/plain": [
       "155    0\n",
       "56     0\n",
       "153    1\n",
       "68     1\n",
       "292    0\n",
       "Name: pCR (outcome), dtype: int64"
      ]
     },
     "execution_count": 15,
     "metadata": {},
     "output_type": "execute_result"
    }
   ],
   "source": [
    "from sklearn.utils import shuffle\n",
    "X, Y = shuffle(X,Y, random_state=0)\n",
    "Y.head()"
   ]
  },
  {
   "cell_type": "markdown",
   "id": "87247c41",
   "metadata": {},
   "source": [
    "#### Feature importance"
   ]
  },
  {
   "cell_type": "code",
   "execution_count": 16,
   "id": "488f9cd1",
   "metadata": {},
   "outputs": [
    {
     "name": "stdout",
     "output_type": "stream",
     "text": [
      "[0.21520012 0.02653173 0.08679548 0.04380636 0.01671646 0.03256896\n",
      " 0.02080363 0.04345335 0.00603636 0.06238166 0.26223068 0.2406692\n",
      " 0.23451316 0.2751981  0.25432966 0.26332224 0.22749356 0.26023673\n",
      " 0.26400356 0.24310321 0.23078705 0.2616699  0.27765015 0.24355045\n",
      " 0.20442203 0.25234308 0.28034263 0.25256068 0.30485946 0.27342439\n",
      " 0.25956877 0.30189468 0.26570827 0.24723889 0.28774217 0.26368554\n",
      " 0.28219418 0.2287374  0.22158    0.28034263 0.25259525 0.27717792\n",
      " 0.23287296 0.2633784  0.28934136 0.23225147 0.24552319 0.25184301\n",
      " 0.25017047 0.24923374 0.24792305 0.24848836 0.24490158 0.24743715\n",
      " 0.24944459 0.21270385 0.2386674  0.25097733 0.21094756 0.24400449\n",
      " 0.25370755 0.24496206 0.2624473  0.21089056 0.24551965 0.21780518\n",
      " 0.24167211 0.25714866 0.25666585 0.26128277 0.264508   0.25325148\n",
      " 0.255181   0.23920755 0.2663246  0.24772653 0.25368781 0.28468952\n",
      " 0.21290045 0.2563215  0.29133144 0.25753544 0.25587913 0.23154098\n",
      " 0.24897071 0.26106701 0.23207244 0.23666587 0.27669566 0.2751535\n",
      " 0.26043214 0.20089281 0.21012887 0.25828057 0.24138966 0.25721679\n",
      " 0.20534292 0.15393664 0.14581318 0.16164365 0.29551094 0.27617304\n",
      " 0.26788518 0.15947422 0.25733208 0.24421923 0.26267549 0.24106301\n",
      " 0.25583862 0.26485598 0.28649799 0.28660692 0.22102328 0.23622753\n",
      " 0.25281415 0.2602099  0.27231562]\n"
     ]
    }
   ],
   "source": [
    "mutual_info = MIC(X,Y)\n",
    "print(mutual_info)"
   ]
  },
  {
   "cell_type": "code",
   "execution_count": 17,
   "id": "e1d49689",
   "metadata": {},
   "outputs": [
    {
     "name": "stdout",
     "output_type": "stream",
     "text": [
      "0.3\n",
      "0.01\n",
      "0.23\n",
      "0.06\n"
     ]
    }
   ],
   "source": [
    "print(max(np.round(mutual_info,decimals=2)))\n",
    "print(min(np.round(mutual_info,decimals=2)))\n",
    "print( np.round(np.mean(mutual_info),decimals=2 ) )\n",
    "print( np.round(np.std(mutual_info),decimals=2 ) )"
   ]
  },
  {
   "cell_type": "markdown",
   "id": "ea6561c0",
   "metadata": {},
   "source": [
    "#### Train Test split"
   ]
  },
  {
   "cell_type": "code",
   "execution_count": 18,
   "id": "2bc07792",
   "metadata": {},
   "outputs": [],
   "source": [
    "X_train_1,X_test_1,Y_train_1,Y_test_1 = train_test_split(\n",
    "    X,Y\n",
    "    ,random_state=0\n",
    "    ,stratify=Y\n",
    ")"
   ]
  },
  {
   "cell_type": "markdown",
   "id": "e8cbfed0",
   "metadata": {},
   "source": [
    "#### Feature scaling"
   ]
  },
  {
   "cell_type": "code",
   "execution_count": 19,
   "id": "8f97e0da",
   "metadata": {},
   "outputs": [],
   "source": [
    "sc= StandardScaler()\n",
    "Fit = sc.fit(X_train_1)\n",
    "X_train_1_zs = Fit.transform(X_train_1)\n",
    "X_test_1_zs = Fit.transform(X_test_1)\n"
   ]
  },
  {
   "cell_type": "markdown",
   "id": "66cb41ad",
   "metadata": {},
   "source": [
    "#### Decision Tree Classifier"
   ]
  },
  {
   "cell_type": "code",
   "execution_count": 20,
   "id": "6b182e81",
   "metadata": {},
   "outputs": [
    {
     "name": "stdout",
     "output_type": "stream",
     "text": [
      "Tuned Decision Tree Parameters: {'min_samples_leaf': 1, 'max_features': 5, 'max_depth': 9, 'criterion': 'gini'}\n"
     ]
    }
   ],
   "source": [
    "param_dist = {\"max_depth\": [1,2,3,4,5,6,7,8,9],\n",
    "              \"max_features\": [1,2,3,4,5,6,7,8,9],\n",
    "              \"min_samples_leaf\": [1,2,3,4,5,6,7,8,9],\n",
    "              \"criterion\": [\"gini\", \"entropy\"]}\n",
    "tree = DecisionTreeClassifier()\n",
    "tree_cv = RandomizedSearchCV(tree, param_distributions=param_dist, cv=5, random_state=0)\n",
    "\n",
    "tree_cv.fit(X_train_1,Y_train_1)\n",
    "\n",
    "# Print the tuned parameters and score\n",
    "print(\"Tuned Decision Tree Parameters: {}\".format(tree_cv.best_params_))"
   ]
  },
  {
   "cell_type": "code",
   "execution_count": 21,
   "id": "9bb1f9c1",
   "metadata": {},
   "outputs": [
    {
     "name": "stdout",
     "output_type": "stream",
     "text": [
      "Accuracy: 0.8133333333333334\n",
      "\n",
      "              precision    recall  f1-score   support\n",
      "\n",
      "           0       0.94      0.67      0.78        75\n",
      "           1       0.74      0.96      0.84        75\n",
      "\n",
      "    accuracy                           0.81       150\n",
      "   macro avg       0.84      0.81      0.81       150\n",
      "weighted avg       0.84      0.81      0.81       150\n",
      "\n",
      "\n",
      "Average 5-Fold CV Score: 0.7902 , Standard deviation: 0.0494\n"
     ]
    },
    {
     "data": {
      "image/png": "[encoded data removed]",
      "text/plain": [
       "<Figure size 400x300 with 2 Axes>"
      ]
     },
     "metadata": {},
     "output_type": "display_data"
    }
   ],
   "source": [
    "Tree = DecisionTreeClassifier(criterion= 'gini', max_depth= 9, \n",
    "                                     max_features= 5, min_samples_leaf= 1, \n",
    "                                     random_state=0)\n",
    "Tree.fit(X_train_1,Y_train_1)\n",
    "y_pred_tree = Tree.predict(X_test_1)\n",
    "print('Accuracy:', metrics.accuracy_score(y_pred_tree,Y_test_1))\n",
    "\n",
    "## 5-fold cross-validation \n",
    "cv_scores =cross_val_score(Tree, X_train_1,Y_train_1, cv=5)\n",
    "\n",
    "# Print the 5-fold cross-validation scores\n",
    "print()\n",
    "print(classification_report(Y_test_1, y_pred_tree))\n",
    "print()\n",
    "print(\"Average 5-Fold CV Score: {}\".format(round(np.mean(cv_scores),4)), \n",
    "      \", Standard deviation: {}\".format(round(np.std(cv_scores),4)))\n",
    "\n",
    "plt.figure(figsize=(4,3))\n",
    "ConfMatrix = confusion_matrix(Y_test_1,Tree.predict(X_test_1))\n",
    "sns.heatmap(ConfMatrix,annot=True, cmap=\"Blues\", fmt=\"d\", \n",
    "            xticklabels = ['No PCR', 'PCR'], \n",
    "            yticklabels = ['No PCR', 'PCR'])\n",
    "plt.ylabel('True label')\n",
    "plt.xlabel('Predicted label')\n",
    "plt.title(\"Confusion Matrix - Decision Tree\");"
   ]
  },
  {
   "cell_type": "markdown",
   "id": "ed3b481e",
   "metadata": {},
   "source": [
    "#### Random Forest classifier"
   ]
  },
  {
   "cell_type": "code",
   "execution_count": 22,
   "id": "4374d34d",
   "metadata": {},
   "outputs": [
    {
     "name": "stdout",
     "output_type": "stream",
     "text": [
      "Tuned Random Forest Parameters: {'n_estimators': 100, 'max_features': 2, 'max_depth': 9, 'criterion': 'entropy'}\n"
     ]
    }
   ],
   "source": [
    "param_dist = {'n_estimators': [50,100,150,200,250],\n",
    "               \"max_features\": [1,2,3,4,5,6,7,8,9],\n",
    "               'max_depth': [1,2,3,4,5,6,7,8,9],\n",
    "               \"criterion\": [\"gini\", \"entropy\"]}\n",
    "\n",
    "rf = RandomForestClassifier()\n",
    "\n",
    "rf_cv = RandomizedSearchCV(rf, param_distributions = param_dist, \n",
    "                           cv = 5, random_state=0, n_jobs = -1)\n",
    "\n",
    "rf_cv.fit(X_train_1,Y_train_1)\n",
    "\n",
    "print(\"Tuned Random Forest Parameters: %s\" % (rf_cv.best_params_))"
   ]
  },
  {
   "cell_type": "code",
   "execution_count": 23,
   "id": "20b2b92c",
   "metadata": {},
   "outputs": [
    {
     "name": "stdout",
     "output_type": "stream",
     "text": [
      "Accuracy: 0.9133333333333333\n",
      "\n",
      "              precision    recall  f1-score   support\n",
      "\n",
      "           0       0.94      0.88      0.91        75\n",
      "           1       0.89      0.95      0.92        75\n",
      "\n",
      "    accuracy                           0.91       150\n",
      "   macro avg       0.92      0.91      0.91       150\n",
      "weighted avg       0.92      0.91      0.91       150\n",
      "\n",
      "\n",
      "Average 5-Fold CV Score: 0.8215 , Standard deviation: 0.0476\n"
     ]
    },
    {
     "data": {
      "text/plain": [
       "Text(0.5, 1.0, 'Confusion Matrix - Random Forest')"
      ]
     },
     "execution_count": 23,
     "metadata": {},
     "output_type": "execute_result"
    },
    {
     "data": {
      "image/png": "[encoded data removed]",
      "text/plain": [
       "<Figure size 400x300 with 2 Axes>"
      ]
     },
     "metadata": {},
     "output_type": "display_data"
    }
   ],
   "source": [
    "Ran = RandomForestClassifier(criterion= 'entropy', max_depth= 9, \n",
    "                                     max_features= 2, n_estimators= 100, \n",
    "                                     random_state=0)\n",
    "Ran.fit(X_train_1,Y_train_1)\n",
    "y_pred = Ran.predict(X_test_1)\n",
    "print('Accuracy:', metrics.accuracy_score(y_pred,Y_test_1))\n",
    "\n",
    "## 5-fold cross-validation \n",
    "cv_scores =cross_val_score(Ran, X_train_1,Y_train_1, cv=5)\n",
    "\n",
    "# Print the 5-fold cross-validation scores\n",
    "print()\n",
    "print(classification_report(Y_test_1, y_pred))\n",
    "print()\n",
    "print(\"Average 5-Fold CV Score: {}\".format(round(np.mean(cv_scores),4)),\n",
    "      \", Standard deviation: {}\".format(round(np.std(cv_scores),4)))\n",
    "\n",
    "plt.figure(figsize=(4,3))\n",
    "ConfMatrix = confusion_matrix(Y_test_1,Ran.predict(X_test_1))\n",
    "sns.heatmap(ConfMatrix,annot=True, cmap=\"Blues\", fmt=\"d\", \n",
    "            xticklabels = ['No PCR', 'PCR'], \n",
    "            yticklabels =['No PCR', 'PCR'])\n",
    "plt.ylabel('True label')\n",
    "plt.xlabel('Predicted label')\n",
    "plt.title(\"Confusion Matrix - Random Forest\")"
   ]
  },
  {
   "cell_type": "markdown",
   "id": "86476352",
   "metadata": {},
   "source": [
    "#### SVC classifier"
   ]
  },
  {
   "cell_type": "code",
   "execution_count": 24,
   "id": "d74e0bc1",
   "metadata": {},
   "outputs": [
    {
     "name": "stdout",
     "output_type": "stream",
     "text": [
      "Accuracy: 0.96\n",
      "\n",
      "              precision    recall  f1-score   support\n",
      "\n",
      "           0       0.93      1.00      0.96        75\n",
      "           1       1.00      0.92      0.96        75\n",
      "\n",
      "    accuracy                           0.96       150\n",
      "   macro avg       0.96      0.96      0.96       150\n",
      "weighted avg       0.96      0.96      0.96       150\n",
      "\n",
      "\n",
      "Average 5-Fold CV Score: 0.9108 , Standard deviation: 0.022\n"
     ]
    },
    {
     "data": {
      "image/png": "[encoded data removed]",
      "text/plain": [
       "<Figure size 400x300 with 2 Axes>"
      ]
     },
     "metadata": {},
     "output_type": "display_data"
    }
   ],
   "source": [
    "clf = SVC(C=1, kernel='rbf', degree=3, gamma='auto', probability=True,random_state=0)\n",
    "clf.fit(X_train_1,Y_train_1)\n",
    "y_pred = clf.predict(X_test_1)\n",
    "print('Accuracy:', metrics.accuracy_score(y_pred,Y_test_1))\n",
    "\n",
    "## 5-fold cross-validation \n",
    "cv_scores =cross_val_score(clf, X_train_1,Y_train_1, cv=5)\n",
    "\n",
    "# Print the 5-fold cross-validation scores\n",
    "print()\n",
    "print(classification_report(Y_test_1, y_pred))\n",
    "print()\n",
    "print(\"Average 5-Fold CV Score: {}\".format(round(np.mean(cv_scores),4)),\n",
    "      \", Standard deviation: {}\".format(round(np.std(cv_scores),4)))\n",
    "\n",
    "plt.figure(figsize=(4,3))\n",
    "ConfMatrix = confusion_matrix(Y_test_1,clf.predict(X_test_1))\n",
    "sns.heatmap(ConfMatrix,annot=True, cmap=\"Blues\", fmt=\"d\", \n",
    "            xticklabels = ['No PCR', 'PCR'], \n",
    "            yticklabels = ['No PCR', 'PCR'])\n",
    "plt.ylabel('True label')\n",
    "plt.xlabel('Predicted label')\n",
    "plt.title(\"Confusion Matrix - SVM Classifier\");"
   ]
  },
  {
   "cell_type": "code",
   "execution_count": 25,
   "id": "e798dc0b",
   "metadata": {},
   "outputs": [
    {
     "data": {
      "image/png": "[encoded data removed]",
      "text/plain": [
       "<Figure size 1000x700 with 1 Axes>"
      ]
     },
     "metadata": {},
     "output_type": "display_data"
    }
   ],
   "source": [
    "y_pred_proba_clf = clf.predict_proba(X_test_1)[::,1]\n",
    "fpr2, tpr2, _ = metrics.roc_curve(Y_test_1,  y_pred_proba_clf)\n",
    "auc2 = metrics.roc_auc_score(Y_test_1, y_pred_proba_clf)\n",
    "\n",
    "y_pred_proba_Tree = Tree.predict_proba(X_test_1)[::,1]\n",
    "fpr3, tpr3, _ = metrics.roc_curve(Y_test_1,  y_pred_proba_Tree)\n",
    "auc3 = metrics.roc_auc_score(Y_test_1, y_pred_proba_Tree)\n",
    "\n",
    "y_pred_proba_Ran = Ran.predict_proba(X_test_1)[::,1]\n",
    "fpr4, tpr4, _ = metrics.roc_curve(Y_test_1,  y_pred_proba_Ran)\n",
    "auc4 = metrics.roc_auc_score(Y_test_1, y_pred_proba_Ran)\n",
    "\n",
    "\n",
    "plt.figure(figsize=(10,7))\n",
    "plt.plot([0, 1], [0, 1], 'k--')\n",
    "\n",
    "plt.plot(fpr2,tpr2,label=\"SVM Classifier, auc=\"+str(round(auc2,2)))\n",
    "plt.plot(fpr3,tpr3,label=\"Decision Tree, auc=\"+str(round(auc3,2)))\n",
    "plt.plot(fpr4,tpr4,label=\"Random Forest Classifier, auc=\"+str(round(auc4,2)))\n",
    "plt.legend(loc=4, title='Models', facecolor='white')\n",
    "plt.xlabel('False Positive Rate')\n",
    "plt.ylabel('True Positive Rate')\n",
    "plt.title('ROC', size=15)\n",
    "plt.box(False)"
   ]
  },
  {
   "cell_type": "code",
   "execution_count": 26,
   "id": "e5c6c5d8",
   "metadata": {},
   "outputs": [],
   "source": [
    "import pickle"
   ]
  },
  {
   "cell_type": "code",
   "execution_count": 27,
   "id": "f74a6c61",
   "metadata": {},
   "outputs": [],
   "source": [
    "filename = 'svc_model.sav'\n",
    "pickle.dump(clf, open(filename, 'wb'))"
   ]
  },
  {
   "cell_type": "code",
   "execution_count": null,
   "id": "66beb1f2",
   "metadata": {},
   "outputs": [],
   "source": []
  }
 ],
 "metadata": {
  "kernelspec": {
   "display_name": "Python 3 (ipykernel)",
   "language": "python",
   "name": "python3"
  },
  "language_info": {
   "codemirror_mode": {
    "name": "ipython",
    "version": 3
   },
   "file_extension": ".py",
   "mimetype": "text/x-python",
   "name": "python",
   "nbconvert_exporter": "python",
   "pygments_lexer": "ipython3",
   "version": "3.7.13"
  }
 },
 "nbformat": 4,
 "nbformat_minor": 5
}
